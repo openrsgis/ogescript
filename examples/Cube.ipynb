{
 "cells": [
  {
   "cell_type": "code",
   "execution_count": 2,
   "id": "ae954309",
   "metadata": {
    "scrolled": true
   },
   "outputs": [
    {
     "name": "stdout",
     "output_type": "stream",
     "text": [
      "{\"1\": {\"constantValue\": \"Hainan_Daguangba_Village_Vector\"}, \"2\": {\"constantValue\": \"Hainan_Daguangba_VillagePopulation_Tabular\"}, \"3\": {\"constantValue\": \"NDWI\"}, \"4\": {\"constantValue\": \"ChangeDetection\"}, \"5\": {\"constantValue\": \"AffectedFeature\"}, \"0\": {\"functionInvocationValue\": {\"functionName\": \"Cube.visualize\", \"arguments\": {\"cube\": {\"functionInvocationValue\": {\"functionName\": \"Cube.ConjointAnalysis\", \"arguments\": {\"input\": {\"functionInvocationValue\": {\"functionName\": \"Cube.OverlayAnalysis\", \"arguments\": {\"input\": {\"functionInvocationValue\": {\"functionName\": \"Cube.ChangeDetection\", \"arguments\": {\"certainTimes\": {\"constantValue\": [\"2016-08-15 12:00:00\", \"2016-08-20 12:00:00\"]}, \"input\": {\"functionInvocationValue\": {\"functionName\": \"Cube.NDWI\", \"arguments\": {\"input\": {\"functionInvocationValue\": {\"functionName\": \"Cube.load\", \"arguments\": {\"EndTime\": {\"constantValue\": \"2016-09-01 00:00:00\"}, \"StartTime\": {\"constantValue\": \"2016-06-01 00:00:00\"}, \"geom\": {\"constantValue\": [108.90494046724021, 18.753457222586285, 109.18763565740333, 19.0497805438586]}, \"productIds\": {\"arrayValue\": {\"values\": [{\"constantValue\": \"GF_Hainan_Daguangba_NDWI_EO\"}, {\"valueReference\": \"1\"}, {\"valueReference\": \"2\"}]}}}}}, \"name\": {\"valueReference\": \"3\"}, \"product\": {\"constantValue\": \"Landsat\"}}}}, \"name\": {\"valueReference\": \"4\"}, \"product\": {\"valueReference\": \"3\"}}}}, \"name\": {\"valueReference\": \"5\"}, \"raster\": {\"valueReference\": \"4\"}, \"vector\": {\"valueReference\": \"1\"}}}}, \"name\": {\"constantValue\": \"FinalAffectedPoint\"}, \"tabular\": {\"valueReference\": \"2\"}, \"vector\": {\"valueReference\": \"5\"}}}}, \"products\": {\"constantValue\": \"ChangeDetection,AffectedFeature\"}}}}}\n"
     ]
    },
    {
     "ename": "TypeError",
     "evalue": "string indices must be integers",
     "output_type": "error",
     "traceback": [
      "\u001b[0;31m---------------------------------------------------------------------------\u001b[0m",
      "\u001b[0;31mTypeError\u001b[0m                                 Traceback (most recent call last)",
      "\u001b[0;32m<ipython-input-2-fa8b3233e237>\u001b[0m in \u001b[0;36m<module>\u001b[0;34m\u001b[0m\n\u001b[1;32m     25\u001b[0m \u001b[0;31m# 可视化参数 products为可视化的数据列表\u001b[0m\u001b[0;34m\u001b[0m\u001b[0;34m\u001b[0m\u001b[0;34m\u001b[0m\u001b[0m\n\u001b[1;32m     26\u001b[0m \u001b[0mvis_params\u001b[0m \u001b[0;34m=\u001b[0m \u001b[0;34m{\u001b[0m\u001b[0;34m\"products\"\u001b[0m\u001b[0;34m:\u001b[0m \u001b[0;34m[\u001b[0m\u001b[0;34m\"ChangeDetection\"\u001b[0m\u001b[0;34m,\u001b[0m \u001b[0;34m\"AffectedFeature\"\u001b[0m\u001b[0;34m]\u001b[0m\u001b[0;34m}\u001b[0m\u001b[0;34m\u001b[0m\u001b[0;34m\u001b[0m\u001b[0m\n\u001b[0;32m---> 27\u001b[0;31m \u001b[0moge\u001b[0m\u001b[0;34m.\u001b[0m\u001b[0mmapclient\u001b[0m\u001b[0;34m.\u001b[0m\u001b[0maddToMap\u001b[0m\u001b[0;34m(\u001b[0m\u001b[0mFinalAffectedPoint\u001b[0m\u001b[0;34m,\u001b[0m \u001b[0mvis_params\u001b[0m\u001b[0;34m)\u001b[0m\u001b[0;34m\u001b[0m\u001b[0;34m\u001b[0m\u001b[0m\n\u001b[0m\u001b[1;32m     28\u001b[0m \u001b[0;34m\u001b[0m\u001b[0m\n",
      "\u001b[0;32m~/jupyter/oge_python/oge/mapclient.py\u001b[0m in \u001b[0;36maddToMap\u001b[0;34m(eeobject, vis_params, *unused_args)\u001b[0m\n\u001b[1;32m    542\u001b[0m     \u001b[0;31m#     {\"url\": \"http://125.220.153.26:8093/lgedemooutput/flooded.png\", \"extent\": [18.0, 108.0, 20.0, 110.0]}],\u001b[0m\u001b[0;34m\u001b[0m\u001b[0;34m\u001b[0m\u001b[0;34m\u001b[0m\u001b[0m\n\u001b[1;32m    543\u001b[0m     \u001b[0;31m#        \"vector\": []}\u001b[0m\u001b[0;34m\u001b[0m\u001b[0;34m\u001b[0m\u001b[0;34m\u001b[0m\u001b[0m\n\u001b[0;32m--> 544\u001b[0;31m \u001b[0;31m#     firstExtent = res[\"raster\"][0][\"extent\"]\u001b[0m\u001b[0;34m\u001b[0m\u001b[0;34m\u001b[0m\u001b[0;34m\u001b[0m\u001b[0m\n\u001b[0m\u001b[1;32m    545\u001b[0m \u001b[0;31m#     a = [(firstExtent[0] + firstExtent[2]) / 2.0,(firstExtent[1] + firstExtent[3]) / 2.0]\u001b[0m\u001b[0;34m\u001b[0m\u001b[0;34m\u001b[0m\u001b[0;34m\u001b[0m\u001b[0m\n\u001b[1;32m    546\u001b[0m \u001b[0;31m#     mapClient.center = a\u001b[0m\u001b[0;34m\u001b[0m\u001b[0;34m\u001b[0m\u001b[0;34m\u001b[0m\u001b[0m\n",
      "\u001b[0;31mTypeError\u001b[0m: string indices must be integers"
     ]
    }
   ],
   "source": [
    "import os\n",
    "import sys\n",
    "module_path = os.path.abspath(os.path.join('..'))\n",
    "if module_path not in sys.path:\n",
    "    sys.path.append(module_path)\n",
    "\n",
    "import oge.mapclient\n",
    "\n",
    "oge.Initialize()\n",
    "\n",
    "# 根据筛选参数生成Cube， productIds指定数据\n",
    "params = {\"productIds\": [\"GF_Hainan_Daguangba_NDWI_EO\", \"Hainan_Daguangba_Village_Vector\", \"Hainan_Daguangba_VillagePopulation_Tabular\"],\n",
    "          \"StartTime\": \"2016-06-01 00:00:00\", \"EndTime\": \"2016-09-01 00:00:00\", \"geom\": [108.90494046724021, 18.753457222586285, 109.18763565740333, 19.0497805438586]}\n",
    "cube = oge.Cube(params)\n",
    "\n",
    "# 对Landsat产品中的每一景影像做NDWI 结果产品名为NDWI\n",
    "NDWICube = cube.NDWI(\"Landsat\", \"NDWI\")\n",
    "# 对NDWI计算changeDetection 结果是ChangeDetection 指定用2018-01-02 和 2018-07-07的两张做比较\n",
    "ChangeCube = NDWICube.ChangeDetection(\"NDWI\", [\"2016-08-15 12:00:00\", \"2016-08-20 12:00:00\"], \"ChangeDetection\")\n",
    "# 对ChangeDetection和Vector进行叠置分析 结果是AffectedFeature\n",
    "AffectedFeatureCube = ChangeCube.OverlayAnalysis(\"ChangeDetection\", \"Hainan_Daguangba_Village_Vector\", \"AffectedFeature\")\n",
    "# 对AffectedFeature和Hainan_VillagePopulation_Tabular进行联合分析 结果是FinalAffectedPoint\n",
    "FinalAffectedPoint = AffectedFeatureCube.ConjointAnalysis(\"AffectedFeature\", \"Hainan_Daguangba_VillagePopulation_Tabular\",\n",
    "                                                          \"FinalAffectedPoint\")\n",
    "# 可视化参数 products为可视化的数据列表\n",
    "vis_params = {\"products\": [\"ChangeDetection\", \"AffectedFeature\"]}\n",
    "oge.mapclient.addToMap(FinalAffectedPoint, vis_params)\n",
    "\n"
   ]
  },
  {
   "cell_type": "code",
   "execution_count": null,
   "id": "93d06db0",
   "metadata": {},
   "outputs": [],
   "source": []
  }
 ],
 "metadata": {
  "kernelspec": {
   "display_name": "Python 3",
   "language": "python",
   "name": "python3"
  },
  "language_info": {
   "codemirror_mode": {
    "name": "ipython",
    "version": 3
   },
   "file_extension": ".py",
   "mimetype": "text/x-python",
   "name": "python",
   "nbconvert_exporter": "python",
   "pygments_lexer": "ipython3",
   "version": "3.7.6"
  }
 },
 "nbformat": 4,
 "nbformat_minor": 5
}
