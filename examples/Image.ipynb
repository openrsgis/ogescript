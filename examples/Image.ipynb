{
 "cells": [
  {
   "cell_type": "code",
   "execution_count": 3,
   "id": "4acce873",
   "metadata": {
    "scrolled": true
   },
   "outputs": [
    {
     "name": "stdout",
     "output_type": "stream",
     "text": [
      "{\"2\": {\"constantValue\": \"2016-07-31 00:00:00\"}, \"3\": {\"constantValue\": \"2014-10-01 00:00:00\"}, \"4\": {\"constantValue\": \"EPSG:32650\"}, \"5\": {\"constantValue\": [114.054, 29.8, 115.588, 30.774]}, \"6\": {\"constantValue\": \"LE07_L1TP_C01_T1\"}, \"1\": {\"functionInvocationValue\": {\"functionName\": \"Image.load\", \"arguments\": {\"EndTime\": {\"valueReference\": \"2\"}, \"StartTime\": {\"valueReference\": \"3\"}, \"crs\": {\"valueReference\": \"4\"}, \"geom\": {\"valueReference\": \"5\"}, \"measurementName\": {\"constantValue\": \"Near-Infrared\"}, \"productName\": {\"valueReference\": \"6\"}}}}, \"7\": {\"functionInvocationValue\": {\"functionName\": \"Image.load\", \"arguments\": {\"EndTime\": {\"valueReference\": \"2\"}, \"StartTime\": {\"valueReference\": \"3\"}, \"crs\": {\"valueReference\": \"4\"}, \"geom\": {\"valueReference\": \"5\"}, \"measurementName\": {\"constantValue\": \"Red\"}, \"productName\": {\"valueReference\": \"6\"}}}}, \"0\": {\"functionInvocationValue\": {\"functionName\": \"Image.visualize\", \"arguments\": {\"image\": {\"functionInvocationValue\": {\"functionName\": \"Image.binaryzation\", \"arguments\": {\"image\": {\"functionInvocationValue\": {\"functionName\": \"Image.divide\", \"arguments\": {\"image1\": {\"functionInvocationValue\": {\"functionName\": \"Image.subtract\", \"arguments\": {\"image1\": {\"valueReference\": \"1\"}, \"image2\": {\"valueReference\": \"7\"}}}}, \"image2\": {\"functionInvocationValue\": {\"functionName\": \"Image.add\", \"arguments\": {\"image1\": {\"valueReference\": \"1\"}, \"image2\": {\"valueReference\": \"7\"}}}}}}}, \"threshold\": {\"constantValue\": 0}}}}, \"max\": {\"constantValue\": 255}, \"min\": {\"constantValue\": 0}}}}}\n"
     ]
    }
   ],
   "source": [
    "import os\n",
    "import sys\n",
    "\n",
    "module_path = os.path.abspath(os.path.join('..'))\n",
    "if module_path not in sys.path:\n",
    "    sys.path.append(module_path)\n",
    "\n",
    "import oge\n",
    "import oge.mapclient\n",
    "\n",
    "oge.Initialize()\n",
    "image_params1 = {\"productName\": \"LE07_L1TP_C01_T1\",\"crs\": \"EPSG:32650\", \"measurementName\": \"Near-Infrared\",\"geom\": [114.054, 29.8, 115.588, 30.774],\n",
    "                \"StartTime\": \"2014-10-01 00:00:00\", \"EndTime\": \"2016-07-31 00:00:00\"}\n",
    "image_params2 = {\"productName\": \"LE07_L1TP_C01_T1\",\"crs\": \"EPSG:32650\", \"measurementName\": \"Red\", \"geom\": [114.054, 29.8, 115.588, 30.774],\n",
    "                \"StartTime\": \"2014-10-01 00:00:00\", \"EndTime\": \"2016-07-31 00:00:00\"}\n",
    "image1 = oge.Image(image_params1)\n",
    "image2 = oge.Image(image_params2)\n",
    "image3 = image1.subtract(image2)\n",
    "image4 = image1.add(image2)\n",
    "image5 = image3.divide(image4)\n",
    "image6 = image5.binaryzation(0)\n",
    "vis_params = {'min': 0, 'max': 255}\n",
    "oge.mapclient.addToMap(image6, vis_params, 'test')"
   ]
  },
  {
   "cell_type": "code",
   "execution_count": null,
   "id": "6a7e4477",
   "metadata": {},
   "outputs": [],
   "source": []
  },
  {
   "cell_type": "code",
   "execution_count": null,
   "id": "49c1382b",
   "metadata": {},
   "outputs": [],
   "source": []
  },
  {
   "cell_type": "code",
   "execution_count": null,
   "id": "38eaefd4",
   "metadata": {},
   "outputs": [],
   "source": []
  }
 ],
 "metadata": {
  "kernelspec": {
   "display_name": "Python 3",
   "language": "python",
   "name": "python3"
  },
  "language_info": {
   "codemirror_mode": {
    "name": "ipython",
    "version": 3
   },
   "file_extension": ".py",
   "mimetype": "text/x-python",
   "name": "python",
   "nbconvert_exporter": "python",
   "pygments_lexer": "ipython3",
   "version": "3.7.6"
  }
 },
 "nbformat": 4,
 "nbformat_minor": 5
}
