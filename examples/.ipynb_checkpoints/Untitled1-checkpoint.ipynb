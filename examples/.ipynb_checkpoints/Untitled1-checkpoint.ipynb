{
 "cells": [
  {
   "cell_type": "code",
   "execution_count": 1,
   "id": "011efd86",
   "metadata": {},
   "outputs": [
    {
     "name": "stdout",
     "output_type": "stream",
     "text": [
      "{'Image.load': {'description': 'Returns the images by given id', 'returns': 'Image<unknown bands>', 'args': [{'name': 'id', 'type': 'String', 'description': 'The asset ID of the image.'}]}, 'Image.add': {'description': \"Adds the first value to the second for each matched pair of bands in image1 and image2. If either image1 or image2 has only 1 band, then it is used against all the bands in the other image. If the images have the same number of bands, but not the same names, they're used pairwise in the natural order. The output bands are named for the longer of the two inputs, or if they're equal in length, in image1's order. The type of the output pixels is the union of the input types. \", 'returns': 'Image<unknown bands>', 'args': [{'name': 'image1', 'type': 'Image<unknown bands>', 'description': 'The image from which the left operand bands are taken.'}, {'name': 'image2', 'type': 'Image<unknown bands>', 'description': 'The image from which the right operand bands are taken.'}]}, 'Image.subtract': {'description': \"Subtracts the second value from the first for each matched pair of bands in image1 and image2. If either image1 or image2 has only 1 band, then it is used against all the bands in the other image. If the images have the same number of bands, but not the same names, they're used pairwise in the natural order. The output bands are named for the longer of the two inputs, or if they're equal in length, in image1's order. The type of the output pixels is the union of the input types.\", 'returns': 'Image<unknown bands>', 'args': [{'name': 'image1', 'type': 'Image<unknown bands>', 'description': 'The image from which the left operand bands are taken.'}, {'name': 'image2', 'type': 'Image<unknown bands>', 'description': 'The image from which the right operand bands are taken.'}]}, 'Image.divide': {'description': \"Divides the first value by the second, returning 0 for division by 0 for each matched pair of bands in image1 and image2. If either image1 or image2 has only 1 band, then it is used against all the bands in the other image. If the images have the same number of bands, but not the same names, they're used pairwise in the natural order. The output bands are named for the longer of the two inputs, or if they're equal in length, in image1's order. The type of the output pixels is the union of the input types.\", 'returns': 'Image', 'args': [{'name': 'image1', 'type': 'Image<unknown bands>', 'description': 'The image from which the left operand bands are taken.'}, {'name': 'image2', 'type': 'Image<unknown bands>', 'description': 'The image from which the right operand bands are taken.'}]}, 'Image.normalizedDifference': {'description': 'Computes the normalized difference between two bands.The normalized difference is computed as (first − second) / (first + second). ', 'returns': 'Image<unknown bands>', 'args': [{'name': 'input', 'type': 'Image<unknown bands>', 'description': 'The input image'}, {'name': 'bandNames', 'type': 'List<String>', 'description': 'A list of names specifying the bands to use. If not specified, the first and second bands are used', 'optional': 'True', 'default': 'None'}]}, 'Image.gte': {'description': \"Returns 1 iff the first value is greater than or equal to the second for each matched pair of bands in image1 and image2. If either image1 or image2 has only 1 band, then it is used against all the bands in the other image. If the images have the same number of bands, but not the same names, they're used pairwise in the natural order. The output bands are named for the longer of the two inputs, or if they're equal in length, in image1's order. The type of the output pixels is boolean.\", 'returns': 'Image<unknown bands>', 'args': [{'name': 'image1', 'type': 'Image<unknown bands>', 'description': 'The image from which the left operand bands are taken'}, {'name': 'image2', 'type': 'Image<unknown bands>', 'description': 'The image from which the right operand bands are taken'}]}, 'Image.sampleRegions': {'description': 'Converts each pixel of an image (at a given scale) that intersects one or more regions to a Feature, returning them as a FeatureCollection.  Each output feature will have one property per band of the input image, as well as any specified properties copied from the input feature.Note that geometries will be snapped to pixel centers.', 'returns': 'FeatureCollection', 'args': [{'name': 'image', 'type': 'Image<unknown bands>', 'description': 'The image to sample'}, {'name': 'collection', 'type': 'FeatureCollection', 'description': 'The regions to sample over.'}, {'name': 'properties', 'type': 'List<String>', 'description': 'The list of properties to copy from each input feature.  Defaults to all non-system properties.', 'optional': 'True', 'default': 'None'}, {'name': 'scale', 'type': 'Float', 'description': \"A nominal scale in meters of the projection to sample in.  If unspecified,the scale of the image\\\\'s first band is used.\", 'optional': 'True', 'default': 'None'}, {'name': 'projection', 'type': 'Projection', 'description': \"The projection in which to sample. If unspecified, the projection of the image\\\\'s first band is used. If specified in addition to scale, rescaled to the specified scale.\", 'optional': 'True', 'default': 'None'}, {'name': 'titleScale', 'type': 'Float', 'description': 'A scaling factor used to reduce aggregation tile size; using a larger tileScale (e.g. 2 or 4) may enable computations that run out of memory with the default.', 'optional': 'True', 'default': '1'}, {'name': 'geometries', 'type': 'Boolean', 'description': 'If true, the results will include a point geometry per sampled pixel.  Otherwise, geometries will be omitted (saving memory).', 'optional': 'True', 'default': 'False'}]}, 'Image.visualize': {'description': 'Produces an RGB or grayscale visualization of an image.  Each of the gain, bias, min, max and gamma arguments can take either a single value, which will be applied to all bands, or a list of values the same length as bands.', 'returns': 'Image<unknown bands>', 'args': [{'name': 'image', 'type': 'Image', 'description': 'The image to visualize'}, {'name': 'bands', 'type': 'Object', 'description': '', 'default': 'None', 'optional': 'True'}, {'name': 'gain', 'type': 'Object', 'description': '', 'default': 'None', 'optional': 'True'}, {'name': 'bias', 'type': 'Object', 'description': '', 'default': 'None', 'optional': 'True'}, {'name': 'min', 'type': 'Object', 'description': '', 'default': 'None', 'optional': 'True'}, {'name': 'max', 'type': 'Object', 'description': '', 'default': 'None', 'optional': 'True'}, {'name': 'gamma', 'type': 'Object', 'description': '', 'default': 'None', 'optional': 'True'}, {'name': 'opacity', 'type': 'Number', 'description': '', 'default': 'None', 'optional': 'True'}, {'name': 'palette', 'type': 'Object', 'description': '', 'default': 'None', 'optional': 'True'}, {'name': 'forceRgbOutput', 'type': 'Boolean', 'description': '', 'default': 'False', 'optional': 'True'}]}, 'Collection.filter': {'description': 'Applies a filter to a given collection.', 'returns': 'FeatureCollection', 'args': [{'name': 'collection', 'type': 'FeatureCollection', 'description': 'The collection to filter'}, {'name': 'filter', 'type': 'Object', 'description': 'The filter to apply to the collection. '}]}, 'Filter.gte': {'description': 'Creates a unary or binary filter that passes unless the left operand is less than the right operand.', 'returns': 'Filter', 'args': [{'name': 'leftField', 'type': 'String', 'description': 'A selector for the left operand. Should not be specified if leftValue is specified.', 'optional': 'True', 'default': 'None'}, {'name': 'rightValue', 'type': 'Object', 'description': 'The value of the right operand. Should not be specified if rightField is specified.', 'optional': 'True', 'default': 'None'}, {'name': 'rightField', 'type': 'String', 'description': 'A selector for the right operand. Should not be specified if rightValue is specified.', 'optional': 'True', 'default': 'None'}, {'name': 'leftValue', 'type': 'Object', 'description': 'The value of the left operand. Should not be specified if leftField is specified.', 'optional': 'True', 'default': 'None'}]}, 'Collection.draw': {'description': 'Paints a vector collection for visualization. Not intended for use as input to other algorithms.', 'returns': 'Image', 'args': [{'name': 'collection', 'type': 'FeatureCollection', 'description': 'The collection to draw'}, {'name': 'color', 'type': 'String', 'description': 'A hex string in the format RRGGBB specifying the color to use for drawing the features.'}, {'name': 'pointRadius', 'type': 'Integer', 'description': 'The radius in pixels of the point markers.', 'optional': 'True', 'default': '3'}, {'name': 'strokeWidth', 'type': 'Integer', 'description': 'The width in pixels of lines and polygon borders.', 'optional': 'True', 'default': '2'}]}}\n"
     ]
    },
    {
     "data": {
      "application/vnd.jupyter.widget-view+json": {
       "model_id": "e533e96903354f65b71702815c7037ce",
       "version_major": 2,
       "version_minor": 0
      },
      "text/plain": [
       "Map(center=[36.5, 103.5], controls=(ZoomControl(options=['position', 'zoom_in_text', 'zoom_in_title', 'zoom_ou…"
      ]
     },
     "metadata": {},
     "output_type": "display_data"
    }
   ],
   "source": [
    "import os\n",
    "import sys\n",
    "module_path = os.path.abspath(os.path.join('..'))\n",
    "if module_path not in sys.path:\n",
    "    sys.path.append(module_path)\n",
    "    \n",
    "\n",
    "import lge\n",
    "import lge.mapclient\n",
    "\n",
    "lge.Initialize()\n",
    "image1 = lge.Image(\"image1\")\n",
    "image2 = lge.Image(\"image2\")\n",
    "image3 = image1.add(image2)\n",
    "image4 = image1.subtract(image2)\n",
    "image5 = image3.divide(image4)\n",
    "PALETTE = [\n",
    "    'aec3d4',  # water\n",
    "    '152106', '225129', '369b47', '30eb5b', '387242',  # forest\n",
    "    '6a2325', 'c3aa69', 'b76031', 'd9903d', '91af40',  # shrub, grass, savannah\n",
    "    '111149',  # wetlands\n",
    "    'cdb33b',  # croplands\n",
    "    'cc0013',  # urban\n",
    "    '33280d',  # crop mosaic\n",
    "    'd7cdcc',  # snow and ice\n",
    "    'f7e084',  # barren\n",
    "    '6f6f6f'   # tundra\n",
    "    ]\n",
    "\n",
    "vis_params = {'min': 0, 'max': 17, 'palette': PALETTE}\n",
    "\n",
    "lge.mapclient.addToMap(image5, vis_params, 'test')"
   ]
  },
  {
   "cell_type": "code",
   "execution_count": null,
   "id": "4b8b0c45",
   "metadata": {},
   "outputs": [],
   "source": []
  },
  {
   "cell_type": "code",
   "execution_count": null,
   "id": "5417d453",
   "metadata": {},
   "outputs": [],
   "source": []
  },
  {
   "cell_type": "code",
   "execution_count": null,
   "id": "642dd3a2",
   "metadata": {},
   "outputs": [],
   "source": []
  },
  {
   "cell_type": "code",
   "execution_count": null,
   "id": "c5565336",
   "metadata": {},
   "outputs": [],
   "source": []
  },
  {
   "cell_type": "code",
   "execution_count": null,
   "id": "2774d8e1",
   "metadata": {},
   "outputs": [],
   "source": []
  },
  {
   "cell_type": "code",
   "execution_count": null,
   "id": "41402ed7",
   "metadata": {},
   "outputs": [],
   "source": []
  },
  {
   "cell_type": "code",
   "execution_count": null,
   "id": "79d16833",
   "metadata": {},
   "outputs": [],
   "source": []
  },
  {
   "cell_type": "code",
   "execution_count": null,
   "id": "8d877f56",
   "metadata": {},
   "outputs": [],
   "source": []
  },
  {
   "cell_type": "code",
   "execution_count": null,
   "id": "3568824c",
   "metadata": {},
   "outputs": [],
   "source": []
  },
  {
   "cell_type": "code",
   "execution_count": null,
   "id": "287d4454",
   "metadata": {},
   "outputs": [],
   "source": []
  },
  {
   "cell_type": "code",
   "execution_count": null,
   "id": "4ac93987",
   "metadata": {},
   "outputs": [],
   "source": []
  },
  {
   "cell_type": "code",
   "execution_count": null,
   "id": "4e2ae0e8",
   "metadata": {},
   "outputs": [],
   "source": []
  }
 ],
 "metadata": {
  "kernelspec": {
   "display_name": "lge_36",
   "language": "python",
   "name": "lge_36"
  },
  "language_info": {
   "codemirror_mode": {
    "name": "ipython",
    "version": 3
   },
   "file_extension": ".py",
   "mimetype": "text/x-python",
   "name": "python",
   "nbconvert_exporter": "python",
   "pygments_lexer": "ipython3",
   "version": "3.6.4"
  }
 },
 "nbformat": 4,
 "nbformat_minor": 5
}
