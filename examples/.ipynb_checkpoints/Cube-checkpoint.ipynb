{
 "cells": [
  {
   "cell_type": "code",
   "execution_count": 1,
   "id": "41c87a7c",
   "metadata": {
    "scrolled": true
   },
   "outputs": [
    {
     "name": "stdout",
     "output_type": "stream",
     "text": [
      "{\"1\": {\"constantValue\": \"Hainan_Daguangba_Village_Vector\"}, \"2\": {\"constantValue\": \"Hainan_Daguangba_VillagePopulation_Tabular\"}, \"3\": {\"constantValue\": \"NDWI\"}, \"4\": {\"constantValue\": \"ChangeDetection\"}, \"5\": {\"constantValue\": \"AffectedFeature\"}, \"0\": {\"functionInvocationValue\": {\"functionName\": \"Cube.visualize\", \"arguments\": {\"cube\": {\"functionInvocationValue\": {\"functionName\": \"Cube.ConjointAnalysis\", \"arguments\": {\"input\": {\"functionInvocationValue\": {\"functionName\": \"Cube.OverlayAnalysis\", \"arguments\": {\"input\": {\"functionInvocationValue\": {\"functionName\": \"Cube.ChangeDetection\", \"arguments\": {\"certainTimes\": {\"constantValue\": [\"2016-08-15 12:00:00\", \"2016-08-20 12:00:00\"]}, \"input\": {\"functionInvocationValue\": {\"functionName\": \"Cube.NDWI\", \"arguments\": {\"input\": {\"functionInvocationValue\": {\"functionName\": \"Cube.load\", \"arguments\": {\"EndTime\": {\"constantValue\": \"2016-09-01 00:00:00\"}, \"StartTime\": {\"constantValue\": \"2016-06-01 00:00:00\"}, \"geom\": {\"constantValue\": [108.90494046724021, 18.753457222586285, 109.18763565740333, 19.0497805438586]}, \"productIds\": {\"arrayValue\": {\"values\": [{\"constantValue\": \"GF_Hainan_Daguangba_NDWI_EO\"}, {\"valueReference\": \"1\"}, {\"valueReference\": \"2\"}]}}}}}, \"name\": {\"valueReference\": \"3\"}, \"product\": {\"constantValue\": \"Landsat\"}}}}, \"name\": {\"valueReference\": \"4\"}, \"product\": {\"valueReference\": \"3\"}}}}, \"name\": {\"valueReference\": \"5\"}, \"raster\": {\"valueReference\": \"4\"}, \"vector\": {\"valueReference\": \"1\"}}}}, \"name\": {\"constantValue\": \"FinalAffectedPoint\"}, \"tabular\": {\"valueReference\": \"2\"}, \"vector\": {\"valueReference\": \"5\"}}}}, \"products\": {\"constantValue\": \"ChangeDetection,AffectedFeature\"}}}}}\n"
     ]
    },
    {
     "data": {
      "application/vnd.jupyter.widget-view+json": {
       "model_id": "2bd3d6db395e43139998432ef5d2cce4",
       "version_major": 2,
       "version_minor": 0
      },
      "text/plain": [
       "Map(center=[19.0, 109.0], controls=(ZoomControl(options=['position', 'zoom_in_text', 'zoom_in_title', 'zoom_ou…"
      ]
     },
     "metadata": {},
     "output_type": "display_data"
    }
   ],
   "source": [
    "import os\n",
    "import sys\n",
    "module_path = os.path.abspath(os.path.join('..'))\n",
    "if module_path not in sys.path:\n",
    "    sys.path.append(module_path)\n",
    "\n",
    "import oge.mapclient\n",
    "\n",
    "oge.Initialize()\n",
    "\n",
    "# 根据筛选参数生成Cube， productIds指定数据\n",
    "params = {\"productIds\": [\"GF_Hainan_Daguangba_NDWI_EO\", \"Hainan_Daguangba_Village_Vector\", \"Hainan_Daguangba_VillagePopulation_Tabular\"],\n",
    "          \"StartTime\": \"2016-06-01 00:00:00\", \"EndTime\": \"2016-09-01 00:00:00\", \"geom\": [108.90494046724021, 18.753457222586285, 109.18763565740333, 19.0497805438586]}\n",
    "cube = oge.Cube(params)\n",
    "\n",
    "# 对Landsat产品中的每一景影像做NDWI 结果产品名为NDWI\n",
    "NDWICube = cube.NDWI(\"Landsat\", \"NDWI\")\n",
    "# 对NDWI计算changeDetection 结果是ChangeDetection 指定用2018-01-02 和 2018-07-07的两张做比较\n",
    "ChangeCube = NDWICube.ChangeDetection(\"NDWI\", [\"2016-08-15 12:00:00\", \"2016-08-20 12:00:00\"], \"ChangeDetection\")\n",
    "# 对ChangeDetection和Vector进行叠置分析 结果是AffectedFeature\n",
    "AffectedFeatureCube = ChangeCube.OverlayAnalysis(\"ChangeDetection\", \"Hainan_Daguangba_Village_Vector\", \"AffectedFeature\")\n",
    "# 对AffectedFeature和Hainan_VillagePopulation_Tabular进行联合分析 结果是FinalAffectedPoint\n",
    "FinalAffectedPoint = AffectedFeatureCube.ConjointAnalysis(\"AffectedFeature\", \"Hainan_Daguangba_VillagePopulation_Tabular\",\n",
    "                                                          \"FinalAffectedPoint\")\n",
    "# 可视化参数 products为可视化的数据列表\n",
    "vis_params = {\"products\": [\"ChangeDetection\", \"AffectedFeature\"]}\n",
    "oge.mapclient.addToMap(FinalAffectedPoint, vis_params)\n",
    "\n"
   ]
  },
  {
   "cell_type": "code",
   "execution_count": null,
   "id": "6c762cc7",
   "metadata": {},
   "outputs": [],
   "source": []
  }
 ],
 "metadata": {
  "kernelspec": {
   "display_name": "Python 3",
   "language": "python",
   "name": "python3"
  },
  "language_info": {
   "codemirror_mode": {
    "name": "ipython",
    "version": 3
   },
   "file_extension": ".py",
   "mimetype": "text/x-python",
   "name": "python",
   "nbconvert_exporter": "python",
   "pygments_lexer": "ipython3",
   "version": "3.7.6"
  }
 },
 "nbformat": 4,
 "nbformat_minor": 5
}
