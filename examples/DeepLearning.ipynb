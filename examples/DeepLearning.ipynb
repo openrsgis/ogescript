{
 "cells": [
  {
   "cell_type": "code",
   "execution_count": 6,
   "id": "529e7459",
   "metadata": {
    "scrolled": true
   },
   "outputs": [
    {
     "name": "stdout",
     "output_type": "stream",
     "text": [
      "{\"0\": {\"functionInvocationValue\": {\"functionName\": \"Image.visualize\", \"arguments\": {\"image\": {\"functionInvocationValue\": {\"functionName\": \"Image.deepLearning\", \"arguments\": {\"class\": {\"constantValue\": \"farmland\"}, \"image\": {\"functionInvocationValue\": {\"functionName\": \"Image.load\", \"arguments\": {\"geom\": {\"constantValue\": [101.22, 25.14, 101.23, 25.15]}, \"productName\": {\"constantValue\": \"GF2\"}}}}}}}, \"max\": {\"constantValue\": 1}, \"min\": {\"constantValue\": 0}}}}}\n"
     ]
    }
   ],
   "source": [
    "import os\n",
    "import sys\n",
    "\n",
    "module_path = os.path.abspath(os.path.join('..'))\n",
    "if module_path not in sys.path:\n",
    "    sys.path.append(module_path)\n",
    "\n",
    "import oge\n",
    "import oge.mapclient\n",
    "\n",
    "oge.Initialize()\n",
    "image_params = {\"productName\": \"GF2\", \"geom\": (101.22, 25.14, 101.23, 25.15)}\n",
    "image1 = oge.Image(image_params)\n",
    "image2 = image1.deepLearning(\"farmland\")\n",
    "vis_params = {'min': 0, 'max': 1}\n",
    "oge.mapclient.addToMap(image2, vis_params, 'test')"
   ]
  },
  {
   "cell_type": "code",
   "execution_count": null,
   "id": "9428bb07",
   "metadata": {},
   "outputs": [],
   "source": []
  },
  {
   "cell_type": "code",
   "execution_count": null,
   "id": "3be591aa",
   "metadata": {},
   "outputs": [],
   "source": []
  },
  {
   "cell_type": "code",
   "execution_count": null,
   "id": "33f27166",
   "metadata": {},
   "outputs": [],
   "source": []
  }
 ],
 "metadata": {
  "kernelspec": {
   "display_name": "Python 3",
   "language": "python",
   "name": "python3"
  },
  "language_info": {
   "codemirror_mode": {
    "name": "ipython",
    "version": 3
   },
   "file_extension": ".py",
   "mimetype": "text/x-python",
   "name": "python",
   "nbconvert_exporter": "python",
   "pygments_lexer": "ipython3",
   "version": "3.7.6"
  }
 },
 "nbformat": 4,
 "nbformat_minor": 5
}
